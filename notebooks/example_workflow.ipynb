{
 "cells": [
  {
   "cell_type": "markdown",
   "metadata": {},
   "source": [
    "# Example Workflow for Causal Meta-Learner"
   ]
  },
  {
   "cell_type": "code",
   "execution_count": null,
   "metadata": {},
   "outputs": [],
   "source": [
    "import pandas as pd\n",
    "from utils.preprocess import preprocess_data\n",
    "from models.meta_learner import get_meta_learner\n",
    "\n",
    "# Load sample data\n",
    "df = pd.read_csv('../data/sample_data.csv')\n",
    "X, treatment, y = preprocess_data(df)\n",
    "\n",
    "learner = get_meta_learner('x_learner')\n",
    "learner.fit(X=X.values, treatment=treatment.values, y=y.values)\n",
    "\n",
    "te = learner.predict(X=X.values)\n",
    "print(te.mean())"
   ]
  }
 ],
 "metadata": {},
 "nbformat": 4,
 "nbformat_minor": 2
}